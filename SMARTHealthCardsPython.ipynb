{
 "cells": [
  {
   "cell_type": "markdown",
   "metadata": {},
   "source": [
    "# SMART Health Cards\n",
    "\n",
    "This notebook is designed to give an overview of [SMART Health Cards Framework](https://spec.smarthealth.cards/) and how it works.\n"
   ]
  },
  {
   "cell_type": "markdown",
   "metadata": {},
   "source": [
    "### The FHIR Bundle\n",
    "\n",
    "A SMART Health Card is composed of a [W3C Verifiable Credential](https://w3c.github.io/vc-data-model/), [encoded as a JWT](https://w3c.github.io/vc-data-model/#jwt-encoding), with a Credential Subject that contains the FHIR version and a FHIR Bundle (See [Modeling W3C Verifiable Credentials in FHIR](https://spec.smarthealth.cards/credential-modeling/).\n",
    "\n",
    "The FHIR Bundle contains the health care information.\n",
    "\n",
    "Let's assume we have the below FHIR Bundle ([Example 0](https://spec.smarthealth.cards/examples/example-00-a-fhirBundle.json) at the time of writing). This FHIR Bundle could be produced in a number of ways, but for now let's imagine that the patient, John B. Anyperson, has just received his second COVID-19 vaccination shot and the healthcare worker entered his information into their system which produced the below in their system."
   ]
  },
  {
   "cell_type": "markdown",
   "metadata": {},
   "source": [
    "## Walkthrough\n",
    "\n",
    "The high level outline is as follows:\n",
    "* FHIR Bundle is created\n",
    "* FHIR Bundle is minified\n",
    "* SMART Health Card is created from FHIR Bundle\n",
    "* SMART Health Card is encoded as a JWS\n",
    "* Patient Retrieves the SMART Health Cards via:\n",
    "  * File Download\n",
    "  * QR Code\n",
    "  * FHIR API"
   ]
  },
  {
   "cell_type": "code",
   "execution_count": 1,
   "metadata": {},
   "outputs": [],
   "source": [
    "import json\n",
    "from datetime import datetime\n",
    "import zlib\n",
    "import math\n",
    "\n",
    "from pyzbar.pyzbar import decode\n",
    "from PIL import Image\n",
    "import qrcode\n",
    "from jwcrypto import jwk as jwk_crypto\n",
    "from jose import jws, jwk\n",
    "from jose.constants import ALGORITHMS\n",
    "\n"
   ]
  },
  {
   "cell_type": "code",
   "execution_count": 2,
   "metadata": {},
   "outputs": [],
   "source": [
    "\n",
    "fhir_bundle = {\n",
    "  \"resourceType\": \"Bundle\",\n",
    "  \"type\": \"collection\",\n",
    "  \"entry\": [\n",
    "    {\n",
    "      \"fullUrl\": \"resource:0\",\n",
    "      \"resource\": {\n",
    "        \"resourceType\": \"Patient\",\n",
    "        \"name\": [\n",
    "          {\n",
    "            \"family\": \"Anyperson\",\n",
    "            \"given\": [\n",
    "              \"John\",\n",
    "              \"B.\"\n",
    "            ]\n",
    "          }\n",
    "        ],\n",
    "        \"birthDate\": \"1951-01-20\"\n",
    "      }\n",
    "    },\n",
    "    {\n",
    "      \"fullUrl\": \"resource:1\",\n",
    "      \"resource\": {\n",
    "        \"resourceType\": \"Immunization\",\n",
    "        \"status\": \"completed\",\n",
    "        \"vaccineCode\": {\n",
    "          \"coding\": [\n",
    "            {\n",
    "              \"system\": \"http://hl7.org/fhir/sid/cvx\",\n",
    "              \"code\": \"207\"\n",
    "            }\n",
    "          ]\n",
    "        },\n",
    "        \"patient\": {\n",
    "          \"reference\": \"resource:0\"\n",
    "        },\n",
    "        \"occurrenceDateTime\": \"2021-01-01\",\n",
    "        \"performer\": [\n",
    "          {\n",
    "            \"actor\": {\n",
    "              \"display\": \"ABC General Hospital\"\n",
    "            }\n",
    "          }\n",
    "        ],\n",
    "        \"lotNumber\": \"0000001\"\n",
    "      }\n",
    "    },\n",
    "    {\n",
    "      \"fullUrl\": \"resource:2\",\n",
    "      \"resource\": {\n",
    "        \"resourceType\": \"Immunization\",\n",
    "        \"status\": \"completed\",\n",
    "        \"vaccineCode\": {\n",
    "          \"coding\": [\n",
    "            {\n",
    "              \"system\": \"http://hl7.org/fhir/sid/cvx\",\n",
    "              \"code\": \"207\"\n",
    "            }\n",
    "          ]\n",
    "        },\n",
    "        \"patient\": {\n",
    "          \"reference\": \"resource:0\"\n",
    "        },\n",
    "        \"occurrenceDateTime\": \"2021-01-29\",\n",
    "        \"performer\": [\n",
    "          {\n",
    "            \"actor\": {\n",
    "              \"display\": \"ABC General Hospital\"\n",
    "            }\n",
    "          }\n",
    "        ],\n",
    "        \"lotNumber\": \"0000007\"\n",
    "      }\n",
    "    }\n",
    "  ]\n",
    "}\n",
    "# print(fhir_bundle)"
   ]
  },
  {
   "cell_type": "markdown",
   "metadata": {},
   "source": [
    "A couple things to note in the above JSON. This is a Bundle that contains 3 resources: one for the patient, one for the first vaccination, and another for the second vaccination. This Bundle conforms to the requirements laid out in [SMART Health Cards: Vaccination & Testing Implementation Guide](https://build.fhir.org/ig/HL7/fhir-shc-vaccination-ig/) which defines what resources should be included in the Health Card. Specifically, this is an example of [Vaccine Credential Bundle - Data Minimization](https://build.fhir.org/ig/HL7/fhir-shc-vaccination-ig/StructureDefinition-shc-vaccination-bundle-dm.html). We'll talk about what \"Data Minimization\" means in a second.\n",
    "\n",
    "Now let's create the \"Expanded Health Card\"."
   ]
  },
  {
   "cell_type": "markdown",
   "metadata": {},
   "source": [
    "### Expanded Health Card\n",
    "\n",
    "The Expanded Health Card shows what the Health Card looks like before it is minified and serialized using the compact JWS serialization.\n",
    "\n",
    "[Health Cards are encoded as Compact Serialization JSON Web Signatures (JWS)](https://spec.smarthealth.cards/#health-cards-are-encoded-as-compact-serialization-json-web-signatures-jws) and [Modeling W3C Verifiable Credentials in FHIR](https://spec.smarthealth.cards/credential-modeling/) cover this in more detail.\n",
    "\n",
    "Before we get into the details it's important to note that some of the VC properties are mapped to standard JWT fields when using the [JWT encoding](https://w3c.github.io/vc-data-model/#jwt-encoding) (which we are). These include the `iss` and `nbf` fields.\n",
    "\n",
    "Below shows the expanded Health Card for the example:"
   ]
  },
  {
   "cell_type": "code",
   "execution_count": 3,
   "metadata": {},
   "outputs": [
    {
     "name": "stdout",
     "output_type": "stream",
     "text": [
      "{'iss': 'https://smarthealth.cards/examples/issuer', 'nbf': 1633590921.827544, 'vc': {'@context': ['https://www.w3.org/2018/credentials/v1'], 'type': ['VerifiableCredential', 'https://smarthealth.cards#health-card', 'https://smarthealth.cards#immunization', 'https://smarthealth.cards#covid19'], 'credentialSubject': {'fhirVersion': '4.0.1', 'fhirBundle': {'resourceType': 'Bundle', 'type': 'collection', 'entry': [{'fullUrl': 'resource:0', 'resource': {'resourceType': 'Patient', 'name': [{'family': 'Anyperson', 'given': ['John', 'B.']}], 'birthDate': '1951-01-20'}}, {'fullUrl': 'resource:1', 'resource': {'resourceType': 'Immunization', 'status': 'completed', 'vaccineCode': {'coding': [{'system': 'http://hl7.org/fhir/sid/cvx', 'code': '207'}]}, 'patient': {'reference': 'resource:0'}, 'occurrenceDateTime': '2021-01-01', 'performer': [{'actor': {'display': 'ABC General Hospital'}}], 'lotNumber': '0000001'}}, {'fullUrl': 'resource:2', 'resource': {'resourceType': 'Immunization', 'status': 'completed', 'vaccineCode': {'coding': [{'system': 'http://hl7.org/fhir/sid/cvx', 'code': '207'}]}, 'patient': {'reference': 'resource:0'}, 'occurrenceDateTime': '2021-01-29', 'performer': [{'actor': {'display': 'ABC General Hospital'}}], 'lotNumber': '0000007'}}]}}}}\n"
     ]
    }
   ],
   "source": [
    "expanded_health_card = {\n",
    "  \"iss\": \"https://smarthealth.cards/examples/issuer\",\n",
    "  \"nbf\": datetime.utcnow().timestamp(),\n",
    "  \"vc\": {\n",
    "    \"@context\": [\n",
    "      \"https://www.w3.org/2018/credentials/v1\"\n",
    "    ],\n",
    "    \"type\": [\n",
    "      \"VerifiableCredential\",\n",
    "      \"https://smarthealth.cards#health-card\",\n",
    "      \"https://smarthealth.cards#immunization\",\n",
    "      \"https://smarthealth.cards#covid19\"\n",
    "    ],\n",
    "    \"credentialSubject\": {\n",
    "        \"fhirVersion\": \"4.0.1\",\n",
    "        \"fhirBundle\": fhir_bundle\n",
    "    }\n",
    "  }\n",
    "}\n",
    "print(expanded_health_card)"
   ]
  },
  {
   "cell_type": "markdown",
   "metadata": {},
   "source": [
    "Let's talk about the three root fields:\n",
    "\n",
    "`iss` - This represents the [Issuer](https://w3c.github.io/vc-data-model/#issuer)\n",
    "  * Note this property is represented by `iss` according to the [JWT Encoding Rules](https://w3c.github.io/vc-data-model/#jwt-encoding)\n",
    "\n",
    "`nbf` - This represents the [IssuanceDate](https://w3c.github.io/vc-data-model/#issuance-date)\n",
    "  * Note this property is represented by `nbf`.\n",
    "\n",
    "`vc` - This represents the VC claim minus all the unmapped fields (`iss` and `nbf`)\n",
    "\n",
    "\n",
    "TODO: Fill out the rest of these properties"
   ]
  },
  {
   "cell_type": "markdown",
   "metadata": {},
   "source": [
    "### Health Cards are Small\n",
    "\n",
    "SMART Health Cards can be issued on pieces of paper via QR Codes. This introduces some unique size constraints in order to keep the number and size of QR codes manageable. When using and applying SMART Health Cards, it's important to keep them small.\n",
    "\n",
    "The SMART Health Card spec requires that [the JWS payload is minified and compressed](https://spec.smarthealth.cards/#health-cards-are-small) in order to reduce payload size.\n",
    "\n",
    "SMART Health Cards are designed to be be atomic and shared as a whole. Information within the Health Card cannot be removed without affecting the verifiability of the Health Card. This imposes a privacy challenge when too much information is included in a single Health Card.\n",
    "\n",
    "The \"Data Minimization\" profiles in the IG are designed to address these size and privacy concerns by ensuring the FHIR profiles only require the minimal set of information to achieve the desired results.\n",
    "\n",
    "Below the JWS Payload (i.e. the \"Expanded Health Card\") is compressed according to the spec:"
   ]
  },
  {
   "cell_type": "code",
   "execution_count": 4,
   "metadata": {},
   "outputs": [
    {
     "name": "stdout",
     "output_type": "stream",
     "text": [
      "{\"iss\":\"https://smarthealth.cards/examples/issuer\",\"nbf\":1633590921.827544,\"vc\":{\"@context\":[\"https://www.w3.org/2018/credentials/v1\"],\"type\":[\"VerifiableCredential\",\"https://smarthealth.cards#health-card\",\"https://smarthealth.cards#immunization\",\"https://smarthealth.cards#covid19\"],\"credentialSubject\":{\"fhirVersion\":\"4.0.1\",\"fhirBundle\":{\"resourceType\":\"Bundle\",\"type\":\"collection\",\"entry\":[{\"fullUrl\":\"resource:0\",\"resource\":{\"resourceType\":\"Patient\",\"name\":[{\"family\":\"Anyperson\",\"given\":[\"John\",\"B.\"]}],\"birthDate\":\"1951-01-20\"}},{\"fullUrl\":\"resource:1\",\"resource\":{\"resourceType\":\"Immunization\",\"status\":\"completed\",\"vaccineCode\":{\"coding\":[{\"system\":\"http://hl7.org/fhir/sid/cvx\",\"code\":\"207\"}]},\"patient\":{\"reference\":\"resource:0\"},\"occurrenceDateTime\":\"2021-01-01\",\"performer\":[{\"actor\":{\"display\":\"ABC General Hospital\"}}],\"lotNumber\":\"0000001\"}},{\"fullUrl\":\"resource:2\",\"resource\":{\"resourceType\":\"Immunization\",\"status\":\"completed\",\"vaccineCode\":{\"coding\":[{\"system\":\"http://hl7.org/fhir/sid/cvx\",\"code\":\"207\"}]},\"patient\":{\"reference\":\"resource:0\"},\"occurrenceDateTime\":\"2021-01-29\",\"performer\":[{\"actor\":{\"display\":\"ABC General Hospital\"}}],\"lotNumber\":\"0000007\"}}]}}}}\n"
     ]
    }
   ],
   "source": [
    "# Remove the optional whitespace\n",
    "no_white_space_health_card = json.dumps(expanded_health_card, separators=(',', ':'))\n",
    "print(no_white_space_health_card)"
   ]
  },
  {
   "cell_type": "code",
   "execution_count": 5,
   "metadata": {},
   "outputs": [
    {
     "name": "stdout",
     "output_type": "stream",
     "text": [
      "b'\\xddRMo\\x1a1\\x10\\xfd+\\xd1\\xf4\\n\\xfb\\x05\\x94\\xb0\\xa7\\x16*\\xf5\\xe3PUj\\xd2K\\xc5\\xc1x\\x07\\xd6\\x95\\xd7^\\xd9\\xde\\x05\\x1a\\xed\\x7f\\xef\\x8c\\x81\\xb4\\x91\\x12N9\\xd5\\xb7\\xb1\\xdf\\xbcy\\xefy\\x1e@y\\x0f%\\xd4!\\xb4\\xbeLS\\xdf\\x08\\x17j\\x14:\\xd4\\x89\\x14\\xae\\xf2)\\x1eD\\xd3j\\xf4)\\x01;t0\\x02\\xb3\\xd9B\\x99\\xbf\\x9dLf\\x8blQ\\xe4\\xc9m1\\x9fM\\xa7#\\xe8%\\x94\\x0f\\xf0NZ\\x13\\xf0\\x10\\xa0\\xfc\\xf9\\xc8\\xba\\xdf\\xef\\x93\\xfd$\\xb1n\\x97\\x16Y~\\x9bJ\\x87\\x15\\x9a\\xa0\\x84\\xf6i\\x9f\\xc3z\\x04\\xe1\\xd8\"w\\xfc@\\xa7\\xb6Jl4\\xae\\x1e14\\xf2EyoN\\xc5\\x98\\x8b\\xab8\\xd54\\x9dQ\\xbfEP\\xd6\\\\\\x05J\\xdb\\xab*_\\xb0\\xa8\\xbf2\\xbfw\\x9b_(\\x03\\xfb\\xdb\\xd6\\xca\\x91J\\xcf<%L\\x93,\\xc9\\x89\\x8fo\\x97\\x9d\\xa942\\xc6\\xa1\\xb7\\x9d\\x93x\\x17]\\xc1\\xf9\\xe1\\xe2\\x12\\xa4\\xd5\\x9a\\xd8NJh\\x80;\\x92ub\\xee\\xb4\\xbew\\x9a\\x00\\x97\\xfe2#\\xc0\\xa5x\\x86\\xf8\\x1b\\xd9\\xa1~\\xfe\\x13\\xd1\\xe0\\x89D4J\\x13\\x1f\\xbc7\\x84q>\\xce\\xd8\\xa9\\x1e\\r\\xc7\\xfb\\xc5\\xd6\\\\/\\x13X\\x0fdp\\xa3\\xc8\\xfc\\x07\\x11\\x98+_\\xcc\\xf2q\\x96\\x8f\\x8b\\x0c\\x86a\\xf4\\xac\\x9a\\xfc\\xba\\x9a\\xcfO#\\xf6A\\x84\\xceG\\xbb\\xbc@\\x01\\xf9\\x83z!\\xa52\\xb8\\xb2Ud\\x90\\xb6Rf\\x17\\x85\\xfb\\xa3\\x0f\\xd8\\x9cW\\x91~\\xa6\\xd6\\xf3\\xb80\\x9cl\\xeaU\\x95\\xca\\xfe@\\x042vB\\x91\\xcdaX\\x0f#h\\xcf\\x11D9[thX\\xdb\\xbf\\t\\x12\\xc8J\\xd9\\xb9\\xf8\\xc4f\\xefTs\\xa2(\\xa2\\xe1\\x8cmQT[\\xeb\\x1a\\xdao\\xd6\"d\\xb0\\x8e)+\\xe5[-b\\x9c\\xcb\\xd5\\xcdG4\\xe8\\x84\\xbe\\xf9d}\\xab\\x02-\\xe6\\xc0!j\\x1b\\xbev\\xcd\\x86[!\\x8b\\'\\x7f1\\xc1\\xe2\\xbfL\\xb0X\\xbcv\\x82s~\\x18\\xe8\\xfc\\x01'\n"
     ]
    }
   ],
   "source": [
    "# Normally we'd remove some of the fhirBundle elements at \n",
    "# this step ( e.g. Resource.id, Resource.meta, CodebableConcept.text).\n",
    "# These are already missing from the original payload, so we'll skip that here\n",
    "\n",
    "# Compress the payload with DEFLATE, omitting any zlib headers\n",
    "compress = zlib.compressobj(zlib.Z_DEFAULT_COMPRESSION, zlib.DEFLATED, -15)\n",
    "compressed_payload = compress.compress(no_white_space_health_card.encode('utf-8'))\n",
    "compressed_payload += compress.flush()\n",
    "\n",
    "print(compressed_payload)"
   ]
  },
  {
   "cell_type": "markdown",
   "metadata": {},
   "source": [
    "### Creating the Signed Health Card\n",
    "\n",
    "Now that we have the compressed payload we can sign it as a JWS. First, let's create the key pair for signing and verifying."
   ]
  },
  {
   "cell_type": "code",
   "execution_count": 6,
   "metadata": {},
   "outputs": [],
   "source": [
    "# Use jwcrypto to generate key data\n",
    "key_data = jwk_crypto.JWK.generate(kty='EC', crv='P-256')\n",
    "\n",
    "private_key_data = key_data.export(as_dict=True)"
   ]
  },
  {
   "cell_type": "code",
   "execution_count": 7,
   "metadata": {},
   "outputs": [
    {
     "name": "stdout",
     "output_type": "stream",
     "text": [
      "{\n",
      "    \"kty\": \"EC\",\n",
      "    \"crv\": \"P-256\",\n",
      "    \"x\": \"sSHZc4BcqrVJMCV0m0HeCJoLGA7_5stNCYigO3k-2jg\",\n",
      "    \"y\": \"icHee0V1Wld9u5U01_9HCS6I1hq-chhmQ6dQSbNtfa0\",\n",
      "    \"d\": \"8ZpJRKN-8Um7gLpqJeSy2kjOU6XBZMaNTW01gNerTbA\"\n",
      "}\n"
     ]
    }
   ],
   "source": [
    "# Print the entire key store, including the `d` member which contains the private key value\n",
    "# Set export parameter: `private_key=False` to just present the public key\n",
    "# See: https://tools.ietf.org/id/draft-jones-jose-json-private-and-symmetric-key-00.html#rfc.section.3.1.1\n",
    "print(json.dumps(private_key_data, indent=4))"
   ]
  },
  {
   "cell_type": "markdown",
   "metadata": {},
   "source": [
    "With a signing key in hand we can create the JWS:"
   ]
  },
  {
   "cell_type": "code",
   "execution_count": 8,
   "metadata": {
    "scrolled": true
   },
   "outputs": [
    {
     "name": "stdout",
     "output_type": "stream",
     "text": [
      "eyJhbGciOiJFUzI1NiIsImtpZCI6Ii0tcUhtdlpjb1BTRXJvQUZhZGdfZkthaGNDeE5qWENWSnpkM3B3a1ltM1EiLCJ0eXAiOiJKV1QiLCJ6aXAiOiJERUYifQ.3VJNbxoxEP0r0fQK-wWUsKcWKvXjUFVq0kvFwXgH1pXXXtneBRrtf--MgbSREk451bex37x573keQHkPJdQhtL5MU98IF2oUOtSJFK7yKR5E02r0KQE7dDACs9lCmb-dTGaLbFHkyW0xn02nI-gllA_wTloT8BCg_PnIut_vk_0ksW6XFll-m0qHFZqghPZpn8N6BOHYInf8QKe2Smw0rh4xNPJFeW9OxZiLqzjVNJ1Rv0VQ1lwFSturKl-wqL8yv3ebXygD-9vWypFKzzwlTJMsyYmPb5edqTQyxqG3nZN4F13B-eHiEqTVmthOSmiAO5J1Yu60vneaAJf-MiPApXiG-BvZoX7-E9HgiUQ0ShMfvDeEcT7O2KkeDcf7xdZcLxNYD2Rwo8j8BxGYK1_M8nGWj4sMhmH0rJr8uprPTyP2QYTOR7u8QAH5g3ohpTK4slVkkLZSZheF-6MP2JxXkX6m1vO4MJxs6lWVyv5ABDJ2QpHNYVgPI2jPEUQ5W3RoWNu_CRLIStm5-MRm71Rzoiii4YxtUVRb6xrab9YiZLCOKSvlWy1inMvVzUc06IS--WR9qwIt5sAhahu-ds2GWyGLJ38xweK_TLBYvHaCc34Y6PwB.KKa_yjFcjy2laQcW0yh_5FH5oJCDBUV8969L3hUgFe0gG1p1KuzXXo_kQahTnD7sJ18ADEF_JeDrnl-fCLMWJA\n"
     ]
    }
   ],
   "source": [
    "kid = key_data.thumbprint() # use thumbprint from jwt_cryto.JWK key object as kid\n",
    "\n",
    "key = jwk.construct(private_key_data, algorithm=ALGORITHMS.ES256)\n",
    "jws_token = jws.sign(compressed_payload, key, algorithm=ALGORITHMS.ES256, headers={\"alg\":\"ES256\",\"zip\": \"DEF\", \"kid\":kid})\n",
    "print(jws_token)"
   ]
  },
  {
   "cell_type": "markdown",
   "metadata": {},
   "source": [
    "Now that we have the JWS we should check that we can actually verify the signature"
   ]
  },
  {
   "cell_type": "code",
   "execution_count": 9,
   "metadata": {},
   "outputs": [
    {
     "name": "stdout",
     "output_type": "stream",
     "text": [
      "b'\\xddRMo\\x1a1\\x10\\xfd+\\xd1\\xf4\\n\\xfb\\x05\\x94\\xb0\\xa7\\x16*\\xf5\\xe3PUj\\xd2K\\xc5\\xc1x\\x07\\xd6\\x95\\xd7^\\xd9\\xde\\x05\\x1a\\xed\\x7f\\xef\\x8c\\x81\\xb4\\x91\\x12N9\\xd5\\xb7\\xb1\\xdf\\xbcy\\xefy\\x1e@y\\x0f%\\xd4!\\xb4\\xbeLS\\xdf\\x08\\x17j\\x14:\\xd4\\x89\\x14\\xae\\xf2)\\x1eD\\xd3j\\xf4)\\x01;t0\\x02\\xb3\\xd9B\\x99\\xbf\\x9dLf\\x8blQ\\xe4\\xc9m1\\x9fM\\xa7#\\xe8%\\x94\\x0f\\xf0NZ\\x13\\xf0\\x10\\xa0\\xfc\\xf9\\xc8\\xba\\xdf\\xef\\x93\\xfd$\\xb1n\\x97\\x16Y~\\x9bJ\\x87\\x15\\x9a\\xa0\\x84\\xf6i\\x9f\\xc3z\\x04\\xe1\\xd8\"w\\xfc@\\xa7\\xb6Jl4\\xae\\x1e14\\xf2EyoN\\xc5\\x98\\x8b\\xab8\\xd54\\x9dQ\\xbfEP\\xd6\\\\\\x05J\\xdb\\xab*_\\xb0\\xa8\\xbf2\\xbfw\\x9b_(\\x03\\xfb\\xdb\\xd6\\xca\\x91J\\xcf<%L\\x93,\\xc9\\x89\\x8fo\\x97\\x9d\\xa942\\xc6\\xa1\\xb7\\x9d\\x93x\\x17]\\xc1\\xf9\\xe1\\xe2\\x12\\xa4\\xd5\\x9a\\xd8NJh\\x80;\\x92ub\\xee\\xb4\\xbew\\x9a\\x00\\x97\\xfe2#\\xc0\\xa5x\\x86\\xf8\\x1b\\xd9\\xa1~\\xfe\\x13\\xd1\\xe0\\x89D4J\\x13\\x1f\\xbc7\\x84q>\\xce\\xd8\\xa9\\x1e\\r\\xc7\\xfb\\xc5\\xd6\\\\/\\x13X\\x0fdp\\xa3\\xc8\\xfc\\x07\\x11\\x98+_\\xcc\\xf2q\\x96\\x8f\\x8b\\x0c\\x86a\\xf4\\xac\\x9a\\xfc\\xba\\x9a\\xcfO#\\xf6A\\x84\\xceG\\xbb\\xbc@\\x01\\xf9\\x83z!\\xa52\\xb8\\xb2Ud\\x90\\xb6Rf\\x17\\x85\\xfb\\xa3\\x0f\\xd8\\x9cW\\x91~\\xa6\\xd6\\xf3\\xb80\\x9cl\\xeaU\\x95\\xca\\xfe@\\x042vB\\x91\\xcdaX\\x0f#h\\xcf\\x11D9[thX\\xdb\\xbf\\t\\x12\\xc8J\\xd9\\xb9\\xf8\\xc4f\\xefTs\\xa2(\\xa2\\xe1\\x8cmQT[\\xeb\\x1a\\xdao\\xd6\"d\\xb0\\x8e)+\\xe5[-b\\x9c\\xcb\\xd5\\xcdG4\\xe8\\x84\\xbe\\xf9d}\\xab\\x02-\\xe6\\xc0!j\\x1b\\xbev\\xcd\\x86[!\\x8b\\'\\x7f1\\xc1\\xe2\\xbfL\\xb0X\\xbcv\\x82s~\\x18\\xe8\\xfc\\x01'\n"
     ]
    }
   ],
   "source": [
    "public_key_data = key_data.export(private_key=False, as_dict=True)\n",
    "print(jws.verify(jws_token, public_key_data, ALGORITHMS.ES256))"
   ]
  },
  {
   "cell_type": "markdown",
   "metadata": {},
   "source": [
    "Let's also create a fake key and test with that to make sure we aren't getting a false positive"
   ]
  },
  {
   "cell_type": "code",
   "execution_count": 10,
   "metadata": {},
   "outputs": [],
   "source": [
    "fake_key_data = jwk_crypto.JWK.generate(kty='EC', crv='P-256')\n",
    "private_fake_key = fake_key_data.export(private_key=False, as_dict=True)\n"
   ]
  },
  {
   "cell_type": "code",
   "execution_count": 11,
   "metadata": {},
   "outputs": [
    {
     "ename": "JWSError",
     "evalue": "Signature verification failed.",
     "output_type": "error",
     "traceback": [
      "\u001b[0;31m---------------------------------------------------------------------------\u001b[0m",
      "\u001b[0;31mJWSSignatureError\u001b[0m                         Traceback (most recent call last)",
      "\u001b[0;32m~/.local/lib/python3.8/site-packages/jose/jws.py\u001b[0m in \u001b[0;36m_verify_signature\u001b[0;34m(signing_input, header, signature, key, algorithms)\u001b[0m\n\u001b[1;32m    261\u001b[0m         \u001b[0;32mif\u001b[0m \u001b[0;32mnot\u001b[0m \u001b[0m_sig_matches_keys\u001b[0m\u001b[0;34m(\u001b[0m\u001b[0mkeys\u001b[0m\u001b[0;34m,\u001b[0m \u001b[0msigning_input\u001b[0m\u001b[0;34m,\u001b[0m \u001b[0msignature\u001b[0m\u001b[0;34m,\u001b[0m \u001b[0malg\u001b[0m\u001b[0;34m)\u001b[0m\u001b[0;34m:\u001b[0m\u001b[0;34m\u001b[0m\u001b[0;34m\u001b[0m\u001b[0m\n\u001b[0;32m--> 262\u001b[0;31m             \u001b[0;32mraise\u001b[0m \u001b[0mJWSSignatureError\u001b[0m\u001b[0;34m(\u001b[0m\u001b[0;34m)\u001b[0m\u001b[0;34m\u001b[0m\u001b[0;34m\u001b[0m\u001b[0m\n\u001b[0m\u001b[1;32m    263\u001b[0m     \u001b[0;32mexcept\u001b[0m \u001b[0mJWSSignatureError\u001b[0m\u001b[0;34m:\u001b[0m\u001b[0;34m\u001b[0m\u001b[0;34m\u001b[0m\u001b[0m\n",
      "\u001b[0;31mJWSSignatureError\u001b[0m: ",
      "\nDuring handling of the above exception, another exception occurred:\n",
      "\u001b[0;31mJWSError\u001b[0m                                  Traceback (most recent call last)",
      "\u001b[0;32m<ipython-input-11-8e5dfc72b11c>\u001b[0m in \u001b[0;36m<module>\u001b[0;34m\u001b[0m\n\u001b[1;32m      1\u001b[0m \u001b[0;31m# A JWSSignatureError exception will be thrown if signing_key is invalid.\u001b[0m\u001b[0;34m\u001b[0m\u001b[0;34m\u001b[0m\u001b[0;34m\u001b[0m\u001b[0m\n\u001b[1;32m      2\u001b[0m \u001b[0;34m\u001b[0m\u001b[0m\n\u001b[0;32m----> 3\u001b[0;31m \u001b[0mjws\u001b[0m\u001b[0;34m.\u001b[0m\u001b[0mverify\u001b[0m\u001b[0;34m(\u001b[0m\u001b[0mjws_token\u001b[0m\u001b[0;34m,\u001b[0m \u001b[0mprivate_fake_key\u001b[0m\u001b[0;34m,\u001b[0m \u001b[0mALGORITHMS\u001b[0m\u001b[0;34m.\u001b[0m\u001b[0mES256\u001b[0m\u001b[0;34m)\u001b[0m\u001b[0;34m\u001b[0m\u001b[0;34m\u001b[0m\u001b[0m\n\u001b[0m",
      "\u001b[0;32m~/.local/lib/python3.8/site-packages/jose/jws.py\u001b[0m in \u001b[0;36mverify\u001b[0;34m(token, key, algorithms, verify)\u001b[0m\n\u001b[1;32m     71\u001b[0m \u001b[0;34m\u001b[0m\u001b[0m\n\u001b[1;32m     72\u001b[0m     \u001b[0;32mif\u001b[0m \u001b[0mverify\u001b[0m\u001b[0;34m:\u001b[0m\u001b[0;34m\u001b[0m\u001b[0;34m\u001b[0m\u001b[0m\n\u001b[0;32m---> 73\u001b[0;31m         \u001b[0m_verify_signature\u001b[0m\u001b[0;34m(\u001b[0m\u001b[0msigning_input\u001b[0m\u001b[0;34m,\u001b[0m \u001b[0mheader\u001b[0m\u001b[0;34m,\u001b[0m \u001b[0msignature\u001b[0m\u001b[0;34m,\u001b[0m \u001b[0mkey\u001b[0m\u001b[0;34m,\u001b[0m \u001b[0malgorithms\u001b[0m\u001b[0;34m)\u001b[0m\u001b[0;34m\u001b[0m\u001b[0;34m\u001b[0m\u001b[0m\n\u001b[0m\u001b[1;32m     74\u001b[0m \u001b[0;34m\u001b[0m\u001b[0m\n\u001b[1;32m     75\u001b[0m     \u001b[0;32mreturn\u001b[0m \u001b[0mpayload\u001b[0m\u001b[0;34m\u001b[0m\u001b[0;34m\u001b[0m\u001b[0m\n",
      "\u001b[0;32m~/.local/lib/python3.8/site-packages/jose/jws.py\u001b[0m in \u001b[0;36m_verify_signature\u001b[0;34m(signing_input, header, signature, key, algorithms)\u001b[0m\n\u001b[1;32m    262\u001b[0m             \u001b[0;32mraise\u001b[0m \u001b[0mJWSSignatureError\u001b[0m\u001b[0;34m(\u001b[0m\u001b[0;34m)\u001b[0m\u001b[0;34m\u001b[0m\u001b[0;34m\u001b[0m\u001b[0m\n\u001b[1;32m    263\u001b[0m     \u001b[0;32mexcept\u001b[0m \u001b[0mJWSSignatureError\u001b[0m\u001b[0;34m:\u001b[0m\u001b[0;34m\u001b[0m\u001b[0;34m\u001b[0m\u001b[0m\n\u001b[0;32m--> 264\u001b[0;31m         \u001b[0;32mraise\u001b[0m \u001b[0mJWSError\u001b[0m\u001b[0;34m(\u001b[0m\u001b[0;34m\"Signature verification failed.\"\u001b[0m\u001b[0;34m)\u001b[0m\u001b[0;34m\u001b[0m\u001b[0;34m\u001b[0m\u001b[0m\n\u001b[0m\u001b[1;32m    265\u001b[0m     \u001b[0;32mexcept\u001b[0m \u001b[0mJWSError\u001b[0m\u001b[0;34m:\u001b[0m\u001b[0;34m\u001b[0m\u001b[0;34m\u001b[0m\u001b[0m\n\u001b[1;32m    266\u001b[0m         \u001b[0;32mraise\u001b[0m \u001b[0mJWSError\u001b[0m\u001b[0;34m(\u001b[0m\u001b[0;34m\"Invalid or unsupported algorithm: %s\"\u001b[0m \u001b[0;34m%\u001b[0m \u001b[0malg\u001b[0m\u001b[0;34m)\u001b[0m\u001b[0;34m\u001b[0m\u001b[0;34m\u001b[0m\u001b[0m\n",
      "\u001b[0;31mJWSError\u001b[0m: Signature verification failed."
     ]
    }
   ],
   "source": [
    "# A JWSSignatureError exception will be thrown if signing_key is invalid. \n",
    "\n",
    "jws.verify(jws_token, private_fake_key, ALGORITHMS.ES256)\n"
   ]
  },
  {
   "cell_type": "markdown",
   "metadata": {},
   "source": [
    "### QR Code Generation\n",
    "\n",
    "Now that we have a JWS we can turn that into a QR Code which can be scanned. We won't worry about chunking just yet since the payload is below the 1195 character threshold in this example, but it's a simple addition and [this code snippet](https://github.com/smart-on-fhir/health-cards/blob/152a4f83b223b5fd14027f765e957e290649f2c0/generate-examples/src/index.ts#L146) goes over the process."
   ]
  },
  {
   "cell_type": "code",
   "execution_count": 12,
   "metadata": {},
   "outputs": [
    {
     "name": "stdout",
     "output_type": "stream",
     "text": [
      "shc:/567629595326546034602925407728043360287028647167452228092860037154405971556367615304213937432973364045594526555745627159522633235624086842243342386567623206210652046371320424603122290356432060346029304104366031222909524320603460292437404460573601064129335375667524350369035736300074424070305442307343614025416803627325744358270467434343716556213769715700003258533837246207080453567506107508100662563627623529553659713108324012112825056640347138292530107630370824030569033036241055232022701263226453005539265231532527627642037565030565280058636320507439636639112122585035652872715073625003627042094325636300640368272545685859354567651133092134274428655711363056053864740369590775333529255642123475456031687761413329043773034136046374253871726930630074683111767306565343765823001273427667253077777463392932707644643553085655683936767568260665453307250406210056276024683941647159343864602034082904447209037365565220295700326035206743602600217345664310002412275860403603385932577323562454391034053062562354571075554554317533442305377466116111217526443004503211652642610770325964270369296911726769353976350536443934371072113620270858066659673930077063416262314538455956250009323505297543624309640473340732297570096342417673082021232905366727334441583528056135244036084206376642337250223731283871640800323764100437776660606007447571404137530975695253124460453122343038736342760460653273417740540309283800004237126874287108702059525972005570052642762631290611757456305039312144732752225406074409357421013030525076612554617605635236544203765950082527086629222321404111120912310659405825560358260467043072774343665062365259396523107029041120232425502956236965630057223132422920\n"
     ]
    }
   ],
   "source": [
    "token_caracters = list(jws_token)\n",
    "\n",
    "number_pairs = []\n",
    "for char in token_caracters:\n",
    "    int_char = ord(char) - 45\n",
    "    int_pair = [math.floor(int_char/10), int_char % 10] # Need to maintain leading zeros\n",
    "    number_pairs.append(int_pair)  \n",
    "\n",
    "numeric_jws = \"\".join([str(num) for pair in number_pairs for num in pair]) # Flatten nested list in numeric_jws_pairs\n",
    "\n",
    "qr_code_data = 'shc:/' + numeric_jws\n",
    "print(qr_code_data)"
   ]
  },
  {
   "cell_type": "markdown",
   "metadata": {},
   "source": [
    "The above shows what the value of the QR code will be, with the leading `byte` segment and the `numeric` segment following"
   ]
  },
  {
   "cell_type": "code",
   "execution_count": 13,
   "metadata": {},
   "outputs": [
    {
     "data": {
      "image/png": "[encoded data removed]",
      "text/plain": [
       "<PIL.PngImagePlugin.PngImageFile image mode=1 size=1130x1130 at 0x7F097BA9EEB0>"
      ]
     },
     "metadata": {},
     "output_type": "display_data"
    }
   ],
   "source": [
    "from IPython.display import display\n",
    "\n",
    "qr = qrcode.QRCode(\n",
    "    version=22,\n",
    "    error_correction=qrcode.constants.ERROR_CORRECT_L,\n",
    ")\n",
    "qr.add_data(qr_code_data)\n",
    "\n",
    "img = qr.make_image()\n",
    "img.save(\"py_qrcode.png\")\n",
    "\n",
    "display(Image.open(\"py_qrcode.png\"))"
   ]
  },
  {
   "cell_type": "markdown",
   "metadata": {},
   "source": [
    "### QR Code Scanning\n",
    "\n",
    "Now let's try and scan the QR Code!"
   ]
  },
  {
   "cell_type": "code",
   "execution_count": 14,
   "metadata": {},
   "outputs": [
    {
     "name": "stdout",
     "output_type": "stream",
     "text": [
      "Are the QR Codes Equal? True\n",
      "shc:/567629595326546034602925407728043360287028647167452228092860037154405971556367615304213937432973364045594526555745627159522633235624086842243342386567623206210652046371320424603122290356432060346029304104366031222909524320603460292437404460573601064129335375667524350369035736300074424070305442307343614025416803627325744358270467434343716556213769715700003258533837246207080453567506107508100662563627623529553659713108324012112825056640347138292530107630370824030569033036241055232022701263226453005539265231532527627642037565030565280058636320507439636639112122585035652872715073625003627042094325636300640368272545685859354567651133092134274428655711363056053864740369590775333529255642123475456031687761413329043773034136046374253871726930630074683111767306565343765823001273427667253077777463392932707644643553085655683936767568260665453307250406210056276024683941647159343864602034082904447209037365565220295700326035206743602600217345664310002412275860403603385932577323562454391034053062562354571075554554317533442305377466116111217526443004503211652642610770325964270369296911726769353976350536443934371072113620270858066659673930077063416262314538455956250009323505297543624309640473340732297570096342417673082021232905366727334441583528056135244036084206376642337250223731283871640800323764100437776660606007447571404137530975695253124460453122343038736342760460653273417740540309283800004237126874287108702059525972005570052642762631290611757456305039312144732752225406074409357421013030525076612554617605635236544203765950082527086629222321404111120912310659405825560358260467043072774343665062365259396523107029041120232425502956236965630057223132422920\n"
     ]
    }
   ],
   "source": [
    "image_data = decode(Image.open('py_qrcode.png'))[0][0]\n",
    "scannedQR_data  = image_data.decode()\n",
    "\n",
    "qr_codes_equal = scannedQR_data == qr_code_data\n",
    "\n",
    "print(f\"Are the QR Codes Equal? {qr_codes_equal}\")\n",
    "print(scannedQR_data)"
   ]
  },
  {
   "cell_type": "markdown",
   "metadata": {},
   "source": [
    "### Extracting Data from the QR Code\n",
    "\n",
    "Now let's reverse the process to get the original data back and check the signature. First, let's extract the JWS."
   ]
  },
  {
   "cell_type": "code",
   "execution_count": 15,
   "metadata": {},
   "outputs": [
    {
     "name": "stdout",
     "output_type": "stream",
     "text": [
      "eyJhbGciOiJFUzI1NiIsImtpZCI6Ii0tcUhtdlpjb1BTRXJvQUZhZGdfZkthaGNDeE5qWENWSnpkM3B3a1ltM1EiLCJ0eXAiOiJKV1QiLCJ6aXAiOiJERUYifQ.3VJNbxoxEP0r0fQK-wWUsKcWKvXjUFVq0kvFwXgH1pXXXtneBRrtf--MgbSREk451bex37x573keQHkPJdQhtL5MU98IF2oUOtSJFK7yKR5E02r0KQE7dDACs9lCmb-dTGaLbFHkyW0xn02nI-gllA_wTloT8BCg_PnIut_vk_0ksW6XFll-m0qHFZqghPZpn8N6BOHYInf8QKe2Smw0rh4xNPJFeW9OxZiLqzjVNJ1Rv0VQ1lwFSturKl-wqL8yv3ebXygD-9vWypFKzzwlTJMsyYmPb5edqTQyxqG3nZN4F13B-eHiEqTVmthOSmiAO5J1Yu60vneaAJf-MiPApXiG-BvZoX7-E9HgiUQ0ShMfvDeEcT7O2KkeDcf7xdZcLxNYD2Rwo8j8BxGYK1_M8nGWj4sMhmH0rJr8uprPTyP2QYTOR7u8QAH5g3ohpTK4slVkkLZSZheF-6MP2JxXkX6m1vO4MJxs6lWVyv5ABDJ2QpHNYVgPI2jPEUQ5W3RoWNu_CRLIStm5-MRm71Rzoiii4YxtUVRb6xrab9YiZLCOKSvlWy1inMvVzUc06IS--WR9qwIt5sAhahu-ds2GWyGLJ38xweK_TLBYvHaCc34Y6PwB.KKa_yjFcjy2laQcW0yh_5FH5oJCDBUV8969L3hUgFe0gG1p1KuzXXo_kQahTnD7sJ18ADEF_JeDrnl-fCLMWJA\n"
     ]
    }
   ],
   "source": [
    "import re\n",
    "\n",
    "numeric_chunk = re.findall('.{1,2}', scannedQR_data[5:])\n",
    "jws_tk = \"\".join([chr(int(x) + 45) for x in numeric_chunk])\n",
    "print(jws_tk)"
   ]
  },
  {
   "cell_type": "markdown",
   "metadata": {},
   "source": [
    "Next we can verify the signature and extract the payload"
   ]
  },
  {
   "cell_type": "code",
   "execution_count": 16,
   "metadata": {},
   "outputs": [
    {
     "name": "stdout",
     "output_type": "stream",
     "text": [
      "{\"iss\":\"https://smarthealth.cards/examples/issuer\",\"nbf\":1633590921.827544,\"vc\":{\"@context\":[\"https://www.w3.org/2018/credentials/v1\"],\"type\":[\"VerifiableCredential\",\"https://smarthealth.cards#health-card\",\"https://smarthealth.cards#immunization\",\"https://smarthealth.cards#covid19\"],\"credentialSubject\":{\"fhirVersion\":\"4.0.1\",\"fhirBundle\":{\"resourceType\":\"Bundle\",\"type\":\"collection\",\"entry\":[{\"fullUrl\":\"resource:0\",\"resource\":{\"resourceType\":\"Patient\",\"name\":[{\"family\":\"Anyperson\",\"given\":[\"John\",\"B.\"]}],\"birthDate\":\"1951-01-20\"}},{\"fullUrl\":\"resource:1\",\"resource\":{\"resourceType\":\"Immunization\",\"status\":\"completed\",\"vaccineCode\":{\"coding\":[{\"system\":\"http://hl7.org/fhir/sid/cvx\",\"code\":\"207\"}]},\"patient\":{\"reference\":\"resource:0\"},\"occurrenceDateTime\":\"2021-01-01\",\"performer\":[{\"actor\":{\"display\":\"ABC General Hospital\"}}],\"lotNumber\":\"0000001\"}},{\"fullUrl\":\"resource:2\",\"resource\":{\"resourceType\":\"Immunization\",\"status\":\"completed\",\"vaccineCode\":{\"coding\":[{\"system\":\"http://hl7.org/fhir/sid/cvx\",\"code\":\"207\"}]},\"patient\":{\"reference\":\"resource:0\"},\"occurrenceDateTime\":\"2021-01-29\",\"performer\":[{\"actor\":{\"display\":\"ABC General Hospital\"}}],\"lotNumber\":\"0000007\"}}]}}}}\n"
     ]
    }
   ],
   "source": [
    "payload = jws.verify(jws_tk, public_key_data, ALGORITHMS.ES256)\n",
    "\n",
    "# https://bugs.python.org/issue5784\n",
    "scanned_result = zlib.decompress(payload, wbits=-15).decode()\n",
    "print(scanned_result)"
   ]
  },
  {
   "cell_type": "markdown",
   "metadata": {},
   "source": [
    "Let's compare this to our original minified payload with whitespace removed"
   ]
  },
  {
   "cell_type": "code",
   "execution_count": 17,
   "metadata": {},
   "outputs": [
    {
     "name": "stdout",
     "output_type": "stream",
     "text": [
      "True\n"
     ]
    }
   ],
   "source": [
    "print(scanned_result == no_white_space_health_card)"
   ]
  },
  {
   "cell_type": "markdown",
   "metadata": {},
   "source": [
    "Finally, lets print the entries for easy inspection."
   ]
  },
  {
   "cell_type": "code",
   "execution_count": 18,
   "metadata": {},
   "outputs": [
    {
     "name": "stdout",
     "output_type": "stream",
     "text": [
      "{\n",
      "    \"fullUrl\": \"resource:0\",\n",
      "    \"resource\": {\n",
      "        \"resourceType\": \"Patient\",\n",
      "        \"name\": [\n",
      "            {\n",
      "                \"family\": \"Anyperson\",\n",
      "                \"given\": [\n",
      "                    \"John\",\n",
      "                    \"B.\"\n",
      "                ]\n",
      "            }\n",
      "        ],\n",
      "        \"birthDate\": \"1951-01-20\"\n",
      "    }\n",
      "}\n",
      "{\n",
      "    \"fullUrl\": \"resource:1\",\n",
      "    \"resource\": {\n",
      "        \"resourceType\": \"Immunization\",\n",
      "        \"status\": \"completed\",\n",
      "        \"vaccineCode\": {\n",
      "            \"coding\": [\n",
      "                {\n",
      "                    \"system\": \"http://hl7.org/fhir/sid/cvx\",\n",
      "                    \"code\": \"207\"\n",
      "                }\n",
      "            ]\n",
      "        },\n",
      "        \"patient\": {\n",
      "            \"reference\": \"resource:0\"\n",
      "        },\n",
      "        \"occurrenceDateTime\": \"2021-01-01\",\n",
      "        \"performer\": [\n",
      "            {\n",
      "                \"actor\": {\n",
      "                    \"display\": \"ABC General Hospital\"\n",
      "                }\n",
      "            }\n",
      "        ],\n",
      "        \"lotNumber\": \"0000001\"\n",
      "    }\n",
      "}\n",
      "{\n",
      "    \"fullUrl\": \"resource:2\",\n",
      "    \"resource\": {\n",
      "        \"resourceType\": \"Immunization\",\n",
      "        \"status\": \"completed\",\n",
      "        \"vaccineCode\": {\n",
      "            \"coding\": [\n",
      "                {\n",
      "                    \"system\": \"http://hl7.org/fhir/sid/cvx\",\n",
      "                    \"code\": \"207\"\n",
      "                }\n",
      "            ]\n",
      "        },\n",
      "        \"patient\": {\n",
      "            \"reference\": \"resource:0\"\n",
      "        },\n",
      "        \"occurrenceDateTime\": \"2021-01-29\",\n",
      "        \"performer\": [\n",
      "            {\n",
      "                \"actor\": {\n",
      "                    \"display\": \"ABC General Hospital\"\n",
      "                }\n",
      "            }\n",
      "        ],\n",
      "        \"lotNumber\": \"0000007\"\n",
      "    }\n",
      "}\n"
     ]
    }
   ],
   "source": [
    "entry = json.loads(scanned_result)[\"vc\"][\"credentialSubject\"][\"fhirBundle\"][\"entry\"]\n",
    "for item in entry:\n",
    "    print(json.dumps(item, indent = 4 ))\n"
   ]
  },
  {
   "cell_type": "code",
   "execution_count": null,
   "metadata": {},
   "outputs": [],
   "source": []
  },
  {
   "cell_type": "code",
   "execution_count": null,
   "metadata": {},
   "outputs": [],
   "source": []
  },
  {
   "cell_type": "code",
   "execution_count": null,
   "metadata": {},
   "outputs": [],
   "source": []
  }
 ],
 "metadata": {
  "interpreter": {
   "hash": "e7370f93d1d0cde622a1f8e1c04877d8463912d04d973331ad4851f04de6915a"
  },
  "kernelspec": {
   "display_name": "Python 3",
   "language": "python",
   "name": "python3"
  },
  "language_info": {
   "codemirror_mode": {
    "name": "ipython",
    "version": 3
   },
   "file_extension": ".py",
   "mimetype": "text/x-python",
   "name": "python",
   "nbconvert_exporter": "python",
   "pygments_lexer": "ipython3",
   "version": "3.8.10"
  }
 },
 "nbformat": 4,
 "nbformat_minor": 4
}
